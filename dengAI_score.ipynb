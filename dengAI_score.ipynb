{
 "cells": [
  {
   "cell_type": "code",
   "execution_count": 1,
   "metadata": {},
   "outputs": [],
   "source": [
    "import pandas as pd\n",
    "import lightgbm as lgb\n",
    "import os\n",
    "from sklearn.impute import SimpleImputer\n",
    "from sklearn.preprocessing import StandardScaler\n",
    "import xgboost as xgb"
   ]
  },
  {
   "cell_type": "markdown",
   "metadata": {},
   "source": [
    "XGBoost"
   ]
  },
  {
   "cell_type": "code",
   "execution_count": null,
   "metadata": {},
   "outputs": [
    {
     "name": "stdout",
     "output_type": "stream",
     "text": [
      "✅ Archivo guardado en: resultado/submission_xgboost_optimized.csv\n"
     ]
    }
   ],
   "source": [
    "import pandas as pd\n",
    "import xgboost as xgb\n",
    "import os\n",
    "from sklearn.impute import SimpleImputer\n",
    "from sklearn.preprocessing import StandardScaler\n",
    "from sklearn.model_selection import train_test_split\n",
    "from sklearn.metrics import mean_absolute_error\n",
    "\n",
    "# Crear carpeta \"resultado\" si no existe\n",
    "os.makedirs(\"resultado\", exist_ok=True)\n",
    "\n",
    "# Cargar datos preprocesados\n",
    "train_sj = pd.read_csv(\"analisis/train_sj_clean2.csv\")\n",
    "train_iq = pd.read_csv(\"analisis/train_iq_clean2.csv\")\n",
    "test_features = pd.read_csv(\"dengue_features_test.csv\")\n",
    "submission_format = pd.read_csv(\"submission_format.csv\")\n",
    "\n",
    "# Definir características (sin nuevas variables)\n",
    "features = [col for col in train_sj.columns if col not in [\"total_cases\", \"week_start_date\"]]\n",
    "\n",
    "# Preparar conjuntos de entrenamiento\n",
    "X_sj, y_sj = train_sj[features], train_sj[\"total_cases\"]\n",
    "X_iq, y_iq = train_iq[features], train_iq[\"total_cases\"]\n",
    "\n",
    "# Preprocesamiento\n",
    "imputer_sj = SimpleImputer(strategy=\"most_frequent\")\n",
    "imputer_iq = SimpleImputer(strategy=\"median\")\n",
    "scaler = StandardScaler()\n",
    "\n",
    "X_sj = scaler.fit_transform(imputer_sj.fit_transform(X_sj))\n",
    "X_iq = scaler.fit_transform(imputer_iq.fit_transform(X_iq))\n",
    "\n",
    "# Separar test por ciudad y aplicar preprocesamiento\n",
    "test_sj = test_features[test_features[\"city\"] == \"sj\"][features]\n",
    "test_iq = test_features[test_features[\"city\"] == \"iq\"][features]\n",
    "\n",
    "test_sj = scaler.transform(imputer_sj.transform(test_sj))\n",
    "test_iq = scaler.transform(imputer_iq.transform(test_iq))\n",
    "\n",
    "# 🚀 **Hiperparámetros del mejor modelo anterior (24.5120)**\n",
    "params_sj = {\n",
    "    \"objective\": \"reg:squarederror\",\n",
    "    \"learning_rate\": 0.03,  # 🔹 Mantener la tasa de aprendizaje óptima\n",
    "    \"max_depth\": 7,  \n",
    "    \"n_estimators\": 300,  # 🔹 Volver a 300 estimadores\n",
    "    \"subsample\": 0.85,  # 🔹 Evitar sobreajuste\n",
    "    \"colsample_bytree\": 0.85,\n",
    "    \"reg_lambda\": 1.0,\n",
    "    \"reg_alpha\": 0.5\n",
    "}\n",
    "params_iq = {\n",
    "    \"objective\": \"reg:squarederror\",\n",
    "    \"learning_rate\": 0.03,\n",
    "    \"max_depth\": 5,  \n",
    "    \"n_estimators\": 300,\n",
    "    \"subsample\": 0.85,\n",
    "    \"colsample_bytree\": 0.85,\n",
    "    \"reg_lambda\": 1.0,\n",
    "    \"reg_alpha\": 0.5\n",
    "}\n",
    "# 🚀 **Hiperparámetros del mejor modelo (24.3077 en DrivenData)**\n",
    "\n",
    "# Entrenar modelos XGBoost con los hiperparámetros anteriores\n",
    "model_xgb_sj = xgb.XGBRegressor(**params_sj)\n",
    "model_xgb_sj.fit(X_sj, y_sj)\n",
    "\n",
    "model_xgb_iq = xgb.XGBRegressor(**params_iq)\n",
    "model_xgb_iq.fit(X_iq, y_iq)\n",
    "\n",
    "# Hacer predicciones\n",
    "pred_sj = model_xgb_sj.predict(test_sj).round().astype(int).clip(min=0)\n",
    "pred_iq = model_xgb_iq.predict(test_iq).round().astype(int).clip(min=0)\n",
    "\n",
    "# Crear el archivo de submission\n",
    "submission = submission_format.copy()\n",
    "submission.loc[submission[\"city\"] == \"sj\", \"total_cases\"] = pred_sj\n",
    "submission.loc[submission[\"city\"] == \"iq\", \"total_cases\"] = pred_iq\n",
    "\n",
    "# Guardar el archivo final\n",
    "submission_path = \"resultado/submission_xgboost_optimized2.csv\"\n",
    "submission.to_csv(submission_path, index=False)\n",
    "\n",
    "print(f\"✅ Archivo guardado en: {submission_path}\")\n"
   ]
  }
 ],
 "metadata": {
  "kernelspec": {
   "display_name": "tf-gpu",
   "language": "python",
   "name": "python3"
  },
  "language_info": {
   "codemirror_mode": {
    "name": "ipython",
    "version": 3
   },
   "file_extension": ".py",
   "mimetype": "text/x-python",
   "name": "python",
   "nbconvert_exporter": "python",
   "pygments_lexer": "ipython3",
   "version": "3.9.18"
  }
 },
 "nbformat": 4,
 "nbformat_minor": 2
}
